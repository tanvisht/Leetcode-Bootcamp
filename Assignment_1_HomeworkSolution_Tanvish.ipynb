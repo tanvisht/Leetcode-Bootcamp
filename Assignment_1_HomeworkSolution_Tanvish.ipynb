{
  "nbformat": 4,
  "nbformat_minor": 0,
  "metadata": {
    "colab": {
      "provenance": [],
      "authorship_tag": "ABX9TyO/oWwd7RDJrxNnDsjp2x9G",
      "include_colab_link": true
    },
    "kernelspec": {
      "name": "python3",
      "display_name": "Python 3"
    },
    "language_info": {
      "name": "python"
    }
  },
  "cells": [
    {
      "cell_type": "markdown",
      "metadata": {
        "id": "view-in-github",
        "colab_type": "text"
      },
      "source": [
        "<a href=\"https://colab.research.google.com/github/tanvisht/Leetcode-Bootcamp/blob/main/Assignment_1_HomeworkSolution_Tanvish.ipynb\" target=\"_parent\"><img src=\"https://colab.research.google.com/assets/colab-badge.svg\" alt=\"Open In Colab\"/></a>"
      ]
    },
    {
      "cell_type": "markdown",
      "source": [
        "Question 1: Two Sum II - Input Array Is Sorted\n"
      ],
      "metadata": {
        "id": "mMpgVGfYmrcH"
      }
    },
    {
      "cell_type": "code",
      "execution_count": 1,
      "metadata": {
        "id": "3_8iU2ARmYVV"
      },
      "outputs": [],
      "source": [
        "from typing import List\n",
        "\n",
        "class Solution:\n",
        "    def twoSum(self, numbers: List[int], target: int) -> List[int]:\n",
        "        left = 0\n",
        "        right = len(numbers) - 1\n",
        "\n",
        "        while left < right:\n",
        "            current_sum = numbers[left] + numbers[right]\n",
        "\n",
        "            if current_sum == target:\n",
        "\n",
        "                return [left + 1, right + 1]\n",
        "            elif current_sum < target:\n",
        "\n",
        "                left += 1\n",
        "            else:\n",
        "                right -= 1\n",
        "\n",
        "\n",
        "        return []\n",
        "\n"
      ]
    },
    {
      "cell_type": "markdown",
      "source": [
        "Question 2: Products of array discluding self"
      ],
      "metadata": {
        "id": "5pyeLuhKm0qm"
      }
    },
    {
      "cell_type": "code",
      "source": [
        "from typing import List\n",
        "\n",
        "class Solution:\n",
        "    def productExceptSelf(self, nums: List[int]) -> List[int]:\n",
        "        n = len(nums)\n",
        "        answer = [1] * n\n",
        "        prefix_product = 1\n",
        "        for i in range(n):\n",
        "            answer[i] = prefix_product\n",
        "            prefix_product *= nums[i]\n",
        "\n",
        "\n",
        "        suffix_product = 1\n",
        "        for i in range(n - 1, -1, -1):\n",
        "            answer[i] *= suffix_product\n",
        "            suffix_product *= nums[i]\n",
        "\n",
        "        return answer\n"
      ],
      "metadata": {
        "id": "tln_m0WRm4kW"
      },
      "execution_count": 2,
      "outputs": []
    },
    {
      "cell_type": "markdown",
      "source": [
        "Quesiton 3: Sort Colors"
      ],
      "metadata": {
        "id": "PbA26LPenCEI"
      }
    },
    {
      "cell_type": "code",
      "source": [
        "class Solution:\n",
        "    def sortColors(self, nums: list[int]) -> None:\n",
        "        low = 0\n",
        "        mid = 0\n",
        "        high = len(nums) - 1\n",
        "\n",
        "        while mid <= high:\n",
        "            if nums[mid] == 0:\n",
        "                nums[low], nums[mid] = nums[mid], nums[low]\n",
        "                low += 1\n",
        "                mid += 1\n",
        "            elif nums[mid] == 1:\n",
        "                mid += 1\n",
        "            else:\n",
        "                nums[high], nums[mid] = nums[mid], nums[high]\n",
        "                high -= 1"
      ],
      "metadata": {
        "id": "mpljSxeFnGjk"
      },
      "execution_count": 3,
      "outputs": []
    }
  ]
}